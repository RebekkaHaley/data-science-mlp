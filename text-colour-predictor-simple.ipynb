{
 "cells": [
  {
   "cell_type": "markdown",
   "metadata": {},
   "source": [
    "# 2-Layer Neural Network | Text Colour Predictor\n",
    "\n",
    "Task:\n",
    "- Feed-forward neural network.\n",
    "- Feed RGB values of 'background colour'.\n",
    "- Predict if dark or light coloured text should be used over the RGB colour to make the text readable."
   ]
  },
  {
   "cell_type": "markdown",
   "metadata": {},
   "source": [
    "## Import libraries:"
   ]
  },
  {
   "cell_type": "code",
   "execution_count": null,
   "metadata": {},
   "outputs": [],
   "source": [
    "# Import libraries:\n",
    "import numpy as np # For linear algebra.\n",
    "import pandas as pd # For data processing, CSV file I/O (e.g. pd.read_csv).\n",
    "import matplotlib.pyplot as plt # For data visualisation.\n",
    "from PIL import Image, ImageDraw, ImageFont, ImageEnhance\n",
    "%matplotlib inline\n"
   ]
  },
  {
   "cell_type": "markdown",
   "metadata": {},
   "source": [
    "## RGB class and tool functions:"
   ]
  },
  {
   "cell_type": "code",
   "execution_count": null,
   "metadata": {},
   "outputs": [],
   "source": [
    "class Error(Exception):\n",
    "    \"\"\"Base class for exceptions in this module.\"\"\"\n",
    "    pass\n",
    "\n",
    "\n",
    "class InputError(Error):\n",
    "    \"\"\"Exception raised for errors in the input.\n",
    "\n",
    "    Attributes:\n",
    "        expr -- Input expression in which the error occurred.\n",
    "        msg  -- Explanation of the error.\"\"\"\n",
    "    def __init__(self, expr, msg):\n",
    "        self.expr = expr\n",
    "        self.msg = msg\n",
    "\n",
    "\n",
    "class RGB():\n",
    "    \"\"\"Defined with values for RGB as input.\n",
    "    \n",
    "    Attributes:\n",
    "        RGB -- Input RGB values should range from 0 to 255.\n",
    "        hex -- Automatically converts RGB to hex values.\"\"\"\n",
    "    def __init__(self, R, G, B):\n",
    "        for X in [R, G, B]:\n",
    "            if (X < 0) or (X > 255):\n",
    "                raise InputError(X, 'Not an RGB value.')\n",
    "        self.R = R\n",
    "        self.G = G\n",
    "        self.B = B\n",
    "        self.RGB = (R, G, B)\n",
    "        self.hex = '#{:02X}{:02X}{:02X}'.format(self.R,self.G,self.B)\n",
    "\n",
    "\n",
    "def generate_RGB_data(X, extreme=False):\n",
    "    \"\"\"Generates a list filled with X number of RGB class values.\n",
    "    Optional: generate cols that are v. dark + v. light for training.\n",
    "    \n",
    "    Attributes:\n",
    "        X -- Number of desired RGB instances.\n",
    "        extreme -- Boolean to generate v. dark + v. light cols.\"\"\"\n",
    "    if extreme == True:\n",
    "        cols = []\n",
    "        for x in range(X):\n",
    "            minimum = 127*(x%2)\n",
    "            maximum = 255-(127*(not x%2))\n",
    "            rgb = RGB(np.random.randint(low=minimum, high=maximum),\n",
    "                      np.random.randint(low=minimum, high=maximum),\n",
    "                      np.random.randint(low=minimum, high=maximum))\n",
    "            cols.append(rgb)\n",
    "        return cols\n",
    "                        \n",
    "    else:\n",
    "        return [RGB(np.random.randint(0, 255),\n",
    "                    np.random.randint(0, 255),\n",
    "                    np.random.randint(0, 255))\n",
    "                for i in range(X)]\n",
    "\n",
    "\n",
    "def display_RGB_colour(colour, font_col='#000'):\n",
    "    \"\"\"Will draw a box of given colour;\n",
    "    and fill with text of given font colour.\n",
    "    \n",
    "    Attributes:\n",
    "        colour -- String containing a RGB or hex value.\n",
    "        font_col -- String containing a RGB or hex value.\"\"\"\n",
    "    img = Image.new(mode='RGB', size=(100, 100), color=colour)\n",
    "    img_draw = ImageDraw.Draw(img)\n",
    "    img_draw.text((36, 45), 'Text', fill=font_col)\n",
    "    plt.imshow(img)\n",
    "    plt.show();\n"
   ]
  },
  {
   "cell_type": "markdown",
   "metadata": {},
   "source": [
    "## Data visualisation:"
   ]
  },
  {
   "cell_type": "code",
   "execution_count": null,
   "metadata": {
    "scrolled": true
   },
   "outputs": [],
   "source": [
    "# Test the RGB class and data visualisation tool functions:\n",
    "colours = generate_RGB_data(X=2, extreme=True)\n",
    "\n",
    "for colour in colours:\n",
    "    print('RGB:', colour.RGB, 'Hex:', colour.hex)\n",
    "    display_RGB_colour(colour=colour.RGB, font_col='#fff')\n"
   ]
  },
  {
   "cell_type": "markdown",
   "metadata": {},
   "source": [
    "## Generate data:"
   ]
  },
  {
   "cell_type": "code",
   "execution_count": null,
   "metadata": {
    "scrolled": true
   },
   "outputs": [],
   "source": [
    "np.random.seed(2) # Optional: set seed for data generation.\n",
    "\n",
    "data = pd.DataFrame([x.RGB for x in generate_RGB_data(X=200, extreme=1)],\n",
    "                     columns=['R', 'G', 'B'])\n",
    "\n",
    "display('Training set:', data)\n"
   ]
  },
  {
   "cell_type": "markdown",
   "metadata": {},
   "source": [
    "## Assign Labels (NB: lazy method)"
   ]
  },
  {
   "cell_type": "code",
   "execution_count": null,
   "metadata": {},
   "outputs": [],
   "source": [
    "# Import libraries:\n",
    "from sklearn.cluster import AgglomerativeClustering\n"
   ]
  },
  {
   "cell_type": "code",
   "execution_count": null,
   "metadata": {},
   "outputs": [],
   "source": [
    "clusterer = AgglomerativeClustering(n_clusters=2, linkage='ward').fit(data.values)\n",
    "y = clusterer.labels_\n",
    "\n",
    "print(y)\n"
   ]
  },
  {
   "cell_type": "code",
   "execution_count": null,
   "metadata": {
    "scrolled": true
   },
   "outputs": [],
   "source": [
    "for i, label in enumerate(y[:2]):\n",
    "    \n",
    "    if label == 0: # NB: must check for most appriate label-to-class assignment.\n",
    "        print('---> light text')\n",
    "        display_RGB_colour(colour=tuple(data.iloc[i, :]), font_col='#fff')\n",
    "        \n",
    "    else:\n",
    "        print('---> dark text')\n",
    "        display_RGB_colour(colour=tuple(data.iloc[i, :]), font_col='#000')\n"
   ]
  },
  {
   "cell_type": "markdown",
   "metadata": {},
   "source": [
    "## Train/test split:"
   ]
  },
  {
   "cell_type": "code",
   "execution_count": null,
   "metadata": {},
   "outputs": [],
   "source": [
    "# Import libraries:\n",
    "from sklearn.model_selection import train_test_split\n"
   ]
  },
  {
   "cell_type": "code",
   "execution_count": null,
   "metadata": {
    "scrolled": true
   },
   "outputs": [],
   "source": [
    "# Split data into training & testing sets:\n",
    "train, test = train_test_split(data.join(pd.Series(y, name='y')))\n",
    "\n",
    "display(train.head())\n",
    "display(test.head())\n"
   ]
  },
  {
   "cell_type": "markdown",
   "metadata": {},
   "source": [
    "## Building the NN:"
   ]
  },
  {
   "cell_type": "code",
   "execution_count": null,
   "metadata": {},
   "outputs": [],
   "source": [
    "# Define Neuron class:\n",
    "class NeuralNetwork():\n",
    "    def __init__(self, X, y, bias=1, eta=0.1, w1=None, w2=None, num_nodes=2, num_hidden=2, linear=False):\n",
    "        self.X = X\n",
    "        self.y = y\n",
    "        self.eta = eta\n",
    "        self.w1 = np.random.rand(num_nodes, self.X.shape[0]) if w1 is None else w1\n",
    "        self.w2 = np.random.rand(self.y.shape[0], num_nodes) if w2 is None else w2\n",
    "        self.b1 = np.ones((self.w1.shape[0], self.X.shape[1]), dtype=float)*bias\n",
    "        self.b2 = np.ones(self.y.shape, dtype=float)*bias\n",
    "        self.output = np.zeros(self.y.shape)\n",
    "        self.linear = linear\n",
    "    \n",
    "    def activ_func(self, x):\n",
    "        if self.linear is True: # For linear:\n",
    "            return x\n",
    "        else: # For sigmoid:\n",
    "            return 1.0/(1.0 + np.exp(-x))\n",
    "    \n",
    "    def forwardpass(self):\n",
    "        self.layer1 = self.activ_func(np.dot(self.w1, self.X) + self.b1)\n",
    "        self.output = self.activ_func(np.dot(self.w2, self.layer1) + self.b2)\n",
    "        \n",
    "    def activ_deriv(self, x):\n",
    "        if self.linear is True: # For linear:\n",
    "            return 1\n",
    "        else: # For sigmoid:\n",
    "            return self.activ_func(x)*(1-self.activ_func(x))\n",
    "    \n",
    "    def error_deriv(self):\n",
    "        return -(self.y-self.output)\n",
    "    \n",
    "    def backprop(self):\n",
    "        \"\"\"Apply chain rule to find derivative of loss function.\"\"\"\n",
    "        # Output layer:\n",
    "        big_delta = self.error_deriv() * self.activ_deriv(x=np.dot(self.w2, self.layer1))\n",
    "        output_unit = -self.eta * np.dot(big_delta, self.layer1.T)\n",
    "\n",
    "        # Hidden layer:\n",
    "        sml_delta = np.dot(big_delta.T, self.w2).T * self.activ_deriv(x=np.dot(self.w1, self.X))        \n",
    "        hidden_unit = -self.eta * np.dot(sml_delta, self.X.T)\n",
    "        \n",
    "        \"\"\"Update the weights and biases with the derivative (slope) of the loss function.\"\"\"\n",
    "        # Weights:\n",
    "        self.w2 += output_unit\n",
    "        self.w1 += hidden_unit\n",
    "        \n",
    "        # Biases:\n",
    "        self.b2 += -self.eta * big_delta * self.b2\n",
    "        self.b1 += -self.eta * sml_delta * self.b1\n",
    "    \n",
    "    def fit(self, Xs, ys, iterations=20):\n",
    "        y_preds = []\n",
    "        for i, X in enumerate(Xs): # Per data point:\n",
    "            self.X = X\n",
    "            self.y = ys[i]\n",
    "            \n",
    "            for i in range(iterations): # Per iteration:\n",
    "                self.forwardpass()\n",
    "                self.backprop()\n",
    "                \n",
    "            y_preds.append(self.output)\n",
    "            \n",
    "        return np.array(y_preds)\n",
    "    \n",
    "    def predict(self, Xs):\n",
    "        y_preds = []\n",
    "        for X in Xs:\n",
    "            self.X = X\n",
    "            self.forwardpass()\n",
    "            \n",
    "            y_preds.append(self.output)\n",
    "            \n",
    "        return np.array(y_preds)\n",
    "    \n",
    "    def display_test_results(self, Xs, y_preds):\n",
    "        for i, y in enumerate(y_preds):\n",
    "            if y == 0:\n",
    "                print(y, '---> light text')\n",
    "                display_RGB_colour(colour=tuple(Xs[i, :]), font_col='#fff')\n",
    "\n",
    "            else:\n",
    "                print(y, '---> dark text')\n",
    "                display_RGB_colour(colour=tuple(Xs[i, :]), font_col='#000')\n"
   ]
  },
  {
   "cell_type": "markdown",
   "metadata": {},
   "source": [
    "## Use the NN on dummy example:"
   ]
  },
  {
   "cell_type": "code",
   "execution_count": null,
   "metadata": {},
   "outputs": [],
   "source": [
    "# Setup inputs:\n",
    "X = np.array([0, 1]).reshape((2,1))\n",
    "y = np.array([1, 0]).reshape((2,1))\n",
    "w1 = np.array([[-1, 0],\n",
    "               [0, 1]], dtype=float)\n",
    "w2 = np.array([[1, 0],\n",
    "               [-1, 1]], dtype=float)\n",
    "\n",
    "# Initialise NN:\n",
    "NN = NeuralNetwork(X=X,\n",
    "                   y=y,\n",
    "                   bias=1,\n",
    "                   eta=0.1,\n",
    "                   w1=w1,\n",
    "                   w2=w2,\n",
    "                   num_nodes=2,\n",
    "                   linear=True)\n",
    "\n",
    "# Use NN:\n",
    "NN.forwardpass()\n",
    "print('\\nForward Pass:\\noutput:\\n{}'.format(NN.output))\n",
    "\n",
    "NN.backprop()\n",
    "print('\\nBackpropagation:\\nhidden:\\n{}\\noutput:\\n{}'.format(NN.w1, NN.w2))\n",
    "\n",
    "NN.forwardpass()\n",
    "print('\\nForward Pass:\\noutput:\\n{}'.format(NN.output))\n"
   ]
  },
  {
   "cell_type": "markdown",
   "metadata": {},
   "source": [
    "## Train the NN on training set:"
   ]
  },
  {
   "cell_type": "code",
   "execution_count": null,
   "metadata": {},
   "outputs": [],
   "source": [
    "# Setup inputs:\n",
    "input_X = train.values[0, :3].reshape((3,1))\n",
    "input_y = train.values[0, 3].reshape((1,1))\n",
    "print('X:\\n{}\\ny:\\n{}'.format(input_X, input_y))\n",
    "\n",
    "# Initialise NN:\n",
    "NN = NeuralNetwork(X=input_X,\n",
    "                   y=input_y,\n",
    "                   bias=1,\n",
    "                   eta=0.75,\n",
    "                   w1=None,\n",
    "                   w2=None,\n",
    "                   num_nodes=10,\n",
    "                   linear=False)\n",
    "\n",
    "# Use NN:\n",
    "NN.forwardpass()\n",
    "print('\\nForward Pass:\\noutput:\\n{}'.format(NN.output))\n",
    "\n",
    "NN.backprop()\n",
    "print('\\nBackpropagation:\\nhidden:\\n{}\\noutput:\\n{}'.format(NN.w1, NN.w2))\n",
    "\n",
    "NN.forwardpass()\n",
    "print('\\nForward Pass:\\noutput:\\n{}'.format(NN.output))\n"
   ]
  },
  {
   "cell_type": "code",
   "execution_count": null,
   "metadata": {},
   "outputs": [],
   "source": [
    "# Setup inputs:\n",
    "tr_i = train.shape[0]\n",
    "train_Xs = train.values[:, :3].reshape((tr_i, 3, 1))\n",
    "train_ys = train.values[:, 3].reshape((tr_i, 1))\n",
    "print('Shapes of inputs:', train_Xs.shape, train_ys.shape)\n",
    "\n",
    "# Train NN:\n",
    "train_y_preds = NN.fit(Xs=train_Xs, ys=train_ys, iterations=20)\n",
    "print('Shape of y_preds:', train_y_preds.shape)\n"
   ]
  },
  {
   "cell_type": "code",
   "execution_count": null,
   "metadata": {},
   "outputs": [],
   "source": [
    "train_y_preds"
   ]
  },
  {
   "cell_type": "code",
   "execution_count": null,
   "metadata": {},
   "outputs": [],
   "source": [
    "# Training results:\n",
    "train_results = pd.DataFrame({'y_true': train.y.values,\n",
    "                              'y_pred': np.round(train_y_preds).reshape((tr_i,)).astype(int),\n",
    "                              'same': train.y.values == np.round(train_y_preds).reshape((tr_i,)).astype(int)})\n",
    "\n",
    "display(train_results.head())\n",
    "\n",
    "print('{}% error'.format(round(len(train_results[train_results.same==False]) / len(train_results) * 100)))\n"
   ]
  },
  {
   "cell_type": "code",
   "execution_count": null,
   "metadata": {
    "scrolled": true
   },
   "outputs": [],
   "source": [
    "# Setup inputs:\n",
    "te_i = test.shape[0]\n",
    "test_Xs = test.values[:, :3].reshape((te_i, 3, 1))\n",
    "test_ys = test.values[:, 3].reshape((te_i, 1))\n",
    "print('Shapes of inputs:', test_Xs.shape, test_ys.shape)\n",
    "\n",
    "# Test NN:\n",
    "test_y_preds = NN.predict(Xs=test_Xs)\n",
    "print('Shape of y_preds:', test_y_preds.shape)\n"
   ]
  },
  {
   "cell_type": "code",
   "execution_count": null,
   "metadata": {},
   "outputs": [],
   "source": [
    "# Testing results:\n",
    "test_results = pd.DataFrame({'y_true': test.y.values,\n",
    "                             'y_pred': np.round(test_y_preds).reshape((te_i,)).astype(int),\n",
    "                             'same': test.y.values == np.round(test_y_preds).reshape((te_i,)).astype(int)})\n",
    "\n",
    "display(test_results.head(15))\n",
    "\n",
    "print('{}% error'.format(round(len(test_results[test_results.same==False]) / len(test_results) * 100)))\n"
   ]
  },
  {
   "cell_type": "code",
   "execution_count": null,
   "metadata": {},
   "outputs": [],
   "source": [
    "# Display results:\n",
    "NN.display_test_results(Xs=test.values[:, :3],\n",
    "                        y_preds=test_results.y_pred.values)\n"
   ]
  },
  {
   "cell_type": "markdown",
   "metadata": {},
   "source": [
    "# NN via scikit-learn"
   ]
  },
  {
   "cell_type": "code",
   "execution_count": null,
   "metadata": {},
   "outputs": [],
   "source": [
    "from sklearn.neural_network import MLPClassifier\n"
   ]
  },
  {
   "cell_type": "code",
   "execution_count": null,
   "metadata": {},
   "outputs": [],
   "source": [
    "sklearn_NN = MLPClassifier(activation='logistic')\n",
    "\n",
    "sklearn_NN\n"
   ]
  },
  {
   "cell_type": "code",
   "execution_count": null,
   "metadata": {},
   "outputs": [],
   "source": [
    "sklearn_NN.fit(X=train.iloc[:, :3].values, y=train.y.values)\n"
   ]
  },
  {
   "cell_type": "code",
   "execution_count": null,
   "metadata": {},
   "outputs": [],
   "source": [
    "sklearn_y_preds = sklearn_NN.predict(X=test.iloc[:, :3].values)\n"
   ]
  },
  {
   "cell_type": "code",
   "execution_count": null,
   "metadata": {},
   "outputs": [],
   "source": [
    "sklearn_results = pd.DataFrame({'y_true': test.y.values,\n",
    "                                'y_pred': sklearn_y_preds,\n",
    "                                'same': test.y.values == sklearn_y_preds})\n",
    "\n",
    "display(sklearn_results.head())\n",
    "\n",
    "print('{}% error'.format(round(len(sklearn_results[sklearn_results.same==False]) / len(sklearn_results) * 100)))\n"
   ]
  },
  {
   "cell_type": "code",
   "execution_count": null,
   "metadata": {},
   "outputs": [],
   "source": [
    "# The end."
   ]
  },
  {
   "cell_type": "code",
   "execution_count": null,
   "metadata": {},
   "outputs": [],
   "source": []
  }
 ],
 "metadata": {
  "kernelspec": {
   "display_name": "Python 3",
   "language": "python",
   "name": "python3"
  },
  "language_info": {
   "codemirror_mode": {
    "name": "ipython",
    "version": 3
   },
   "file_extension": ".py",
   "mimetype": "text/x-python",
   "name": "python",
   "nbconvert_exporter": "python",
   "pygments_lexer": "ipython3",
   "version": "3.9.1"
  }
 },
 "nbformat": 4,
 "nbformat_minor": 2
}

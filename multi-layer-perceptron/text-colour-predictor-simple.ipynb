{
 "cells": [
  {
   "cell_type": "markdown",
   "metadata": {},
   "source": [
    "# 2-Layer Neural Network | Text Colour Predictor\n",
    "\n",
    "Task:\n",
    "- Feed-forward neural network.\n",
    "- Feed RGB values of 'background colour'.\n",
    "- Predict if dark or light coloured text should be used over the RGB colour to make the text readable."
   ]
  },
  {
   "cell_type": "markdown",
   "metadata": {},
   "source": [
    "## Import libraries:"
   ]
  },
  {
   "cell_type": "code",
   "execution_count": 1,
   "metadata": {},
   "outputs": [],
   "source": [
    "# Import libraries:\n",
    "import numpy as np # For linear algebra.\n",
    "import pandas as pd # For data processing, CSV file I/O (e.g. pd.read_csv).\n",
    "import matplotlib.pyplot as plt # For data visualisation.\n",
    "from PIL import Image, ImageDraw, ImageFont, ImageEnhance\n",
    "%matplotlib inline"
   ]
  },
  {
   "cell_type": "markdown",
   "metadata": {},
   "source": [
    "## RGB class and tool functions:"
   ]
  },
  {
   "cell_type": "code",
   "execution_count": 2,
   "metadata": {},
   "outputs": [],
   "source": [
    "class Error(Exception):\n",
    "    \"\"\"Base class for exceptions in this module.\"\"\"\n",
    "    pass\n",
    "\n",
    "class InputError(Error):\n",
    "    '''Exception raised for errors in the input.\n",
    "\n",
    "    Attributes:\n",
    "        expr -- Input expression in which the error occurred.\n",
    "        msg  -- Explanation of the error.'''\n",
    "    def __init__(self, expr, msg):\n",
    "        self.expr = expr\n",
    "        self.msg = msg\n",
    "\n",
    "class RGB():\n",
    "    '''Defined with values for RGB as input.\n",
    "    \n",
    "    Attributes:\n",
    "        RGB -- Input RGB values should range from 0 to 255.\n",
    "        hex -- Automatically converts RGB to hex values.'''\n",
    "    def __init__(self, R, G, B):\n",
    "        for X in [R, G, B]:\n",
    "            if (X < 0) or (X > 255):\n",
    "                raise InputError(X, 'Not an RGB value.')\n",
    "        self.R = R\n",
    "        self.G = G\n",
    "        self.B = B\n",
    "        self.RGB = (R, G, B)\n",
    "        self.hex = '#{:02X}{:02X}{:02X}'.format(self.R,self.G,self.B)\n",
    "\n",
    "def generate_RGB_data(X, extreme=False):\n",
    "    '''Generates a list filled with X number of RGB class values.\n",
    "    Optional: generate cols that are v. dark + v. light for training.\n",
    "    \n",
    "    Attributes:\n",
    "        X -- Number of desired RGB instances.\n",
    "        extreme -- Boolean to generate v. dark + v. light cols.'''\n",
    "    if extreme == True:\n",
    "        cols = []\n",
    "        for x in range(X):\n",
    "            minimum = 127*(x%2)\n",
    "            maximum = 255-(127*(not x%2))\n",
    "            rgb = RGB(np.random.randint(low=minimum, high=maximum),\n",
    "                      np.random.randint(low=minimum, high=maximum),\n",
    "                      np.random.randint(low=minimum, high=maximum))\n",
    "            cols.append(rgb)\n",
    "        return cols\n",
    "                        \n",
    "    else:\n",
    "        return [RGB(np.random.randint(0, 255),\n",
    "                    np.random.randint(0, 255),\n",
    "                    np.random.randint(0, 255))\n",
    "                for i in range(X)]\n",
    "\n",
    "def display_RGB_colour(colour, font_col='#000'):\n",
    "    '''Will draw a box of given colour;\n",
    "    and fill with text of given font colour.\n",
    "    \n",
    "    Attributes:\n",
    "        colour -- String containing a RGB or hex value.\n",
    "        font_col -- String containing a RGB or hex value.'''\n",
    "    img = Image.new(mode='RGB', size=(100, 100), color=colour)\n",
    "    img_draw = ImageDraw.Draw(img)\n",
    "    img_draw.text((36, 45), 'Text', fill=font_col)\n",
    "    plt.imshow(img)\n",
    "    plt.show();"
   ]
  },
  {
   "cell_type": "markdown",
   "metadata": {},
   "source": [
    "## Data visualisation:"
   ]
  },
  {
   "cell_type": "code",
   "execution_count": 3,
   "metadata": {
    "scrolled": true
   },
   "outputs": [
    {
     "name": "stdout",
     "output_type": "stream",
     "text": [
      "RGB: (116, 104, 99) Hex: #746863\n"
     ]
    },
    {
     "data": {
      "image/png": "[encoded data removed]",
      "text/plain": [
       "<Figure size 432x288 with 1 Axes>"
      ]
     },
     "metadata": {
      "needs_background": "light"
     },
     "output_type": "display_data"
    },
    {
     "name": "stdout",
     "output_type": "stream",
     "text": [
      "RGB: (131, 227, 153) Hex: #83E399\n"
     ]
    },
    {
     "data": {
      "image/png": "[encoded data removed]",
      "text/plain": [
       "<Figure size 432x288 with 1 Axes>"
      ]
     },
     "metadata": {
      "needs_background": "light"
     },
     "output_type": "display_data"
    }
   ],
   "source": [
    "# Test the RGB class and data visualisation tool functions:\n",
    "colours = generate_RGB_data(X=2, extreme=True)\n",
    "\n",
    "for colour in colours:\n",
    "    print('RGB:', colour.RGB, 'Hex:', colour.hex)\n",
    "    display_RGB_colour(colour=colour.RGB, font_col='#fff')"
   ]
  },
  {
   "cell_type": "markdown",
   "metadata": {},
   "source": [
    "## Generate data:"
   ]
  },
  {
   "cell_type": "code",
   "execution_count": 4,
   "metadata": {
    "scrolled": true
   },
   "outputs": [
    {
     "data": {
      "text/plain": [
       "'Training set:'"
      ]
     },
     "metadata": {},
     "output_type": "display_data"
    },
    {
     "data": {
      "text/html": [
       "<div>\n",
       "<style scoped>\n",
       "    .dataframe tbody tr th:only-of-type {\n",
       "        vertical-align: middle;\n",
       "    }\n",
       "\n",
       "    .dataframe tbody tr th {\n",
       "        vertical-align: top;\n",
       "    }\n",
       "\n",
       "    .dataframe thead th {\n",
       "        text-align: right;\n",
       "    }\n",
       "</style>\n",
       "<table border=\"1\" class=\"dataframe\">\n",
       "  <thead>\n",
       "    <tr style=\"text-align: right;\">\n",
       "      <th></th>\n",
       "      <th>R</th>\n",
       "      <th>G</th>\n",
       "      <th>B</th>\n",
       "    </tr>\n",
       "  </thead>\n",
       "  <tbody>\n",
       "    <tr>\n",
       "      <td>0</td>\n",
       "      <td>40</td>\n",
       "      <td>15</td>\n",
       "      <td>109</td>\n",
       "    </tr>\n",
       "    <tr>\n",
       "      <td>1</td>\n",
       "      <td>199</td>\n",
       "      <td>149</td>\n",
       "      <td>170</td>\n",
       "    </tr>\n",
       "    <tr>\n",
       "      <td>2</td>\n",
       "      <td>82</td>\n",
       "      <td>75</td>\n",
       "      <td>104</td>\n",
       "    </tr>\n",
       "    <tr>\n",
       "      <td>3</td>\n",
       "      <td>134</td>\n",
       "      <td>161</td>\n",
       "      <td>176</td>\n",
       "    </tr>\n",
       "    <tr>\n",
       "      <td>4</td>\n",
       "      <td>95</td>\n",
       "      <td>75</td>\n",
       "      <td>85</td>\n",
       "    </tr>\n",
       "    <tr>\n",
       "      <td>...</td>\n",
       "      <td>...</td>\n",
       "      <td>...</td>\n",
       "      <td>...</td>\n",
       "    </tr>\n",
       "    <tr>\n",
       "      <td>195</td>\n",
       "      <td>201</td>\n",
       "      <td>205</td>\n",
       "      <td>240</td>\n",
       "    </tr>\n",
       "    <tr>\n",
       "      <td>196</td>\n",
       "      <td>127</td>\n",
       "      <td>104</td>\n",
       "      <td>14</td>\n",
       "    </tr>\n",
       "    <tr>\n",
       "      <td>197</td>\n",
       "      <td>196</td>\n",
       "      <td>240</td>\n",
       "      <td>143</td>\n",
       "    </tr>\n",
       "    <tr>\n",
       "      <td>198</td>\n",
       "      <td>126</td>\n",
       "      <td>91</td>\n",
       "      <td>5</td>\n",
       "    </tr>\n",
       "    <tr>\n",
       "      <td>199</td>\n",
       "      <td>223</td>\n",
       "      <td>200</td>\n",
       "      <td>135</td>\n",
       "    </tr>\n",
       "  </tbody>\n",
       "</table>\n",
       "<p>200 rows × 3 columns</p>\n",
       "</div>"
      ],
      "text/plain": [
       "       R    G    B\n",
       "0     40   15  109\n",
       "1    199  149  170\n",
       "2     82   75  104\n",
       "3    134  161  176\n",
       "4     95   75   85\n",
       "..   ...  ...  ...\n",
       "195  201  205  240\n",
       "196  127  104   14\n",
       "197  196  240  143\n",
       "198  126   91    5\n",
       "199  223  200  135\n",
       "\n",
       "[200 rows x 3 columns]"
      ]
     },
     "metadata": {},
     "output_type": "display_data"
    }
   ],
   "source": [
    "np.random.seed(2) # Optional: set seed for data generation.\n",
    "\n",
    "data = pd.DataFrame([x.RGB for x in generate_RGB_data(X=200, extreme=1)],\n",
    "                     columns=['R', 'G', 'B'])\n",
    "display('Training set:', data)"
   ]
  },
  {
   "cell_type": "markdown",
   "metadata": {},
   "source": [
    "## Assign Labels (NB: lazy method)"
   ]
  },
  {
   "cell_type": "code",
   "execution_count": 5,
   "metadata": {},
   "outputs": [],
   "source": [
    "# Import libraries:\n",
    "from sklearn.cluster import AgglomerativeClustering"
   ]
  },
  {
   "cell_type": "code",
   "execution_count": 6,
   "metadata": {},
   "outputs": [
    {
     "name": "stdout",
     "output_type": "stream",
     "text": [
      "[0 1 0 1 0 1 0 1 0 1 0 1 0 1 0 1 0 1 0 1 0 1 0 1 0 1 0 1 0 1 0 1 0 1 0 1 0\n",
      " 1 0 1 0 1 0 1 0 1 0 1 0 1 0 1 0 1 0 1 0 1 0 1 0 1 0 1 0 1 0 1 0 1 0 1 0 1\n",
      " 0 1 0 1 0 1 0 1 0 1 0 1 0 1 0 1 0 1 0 1 0 1 0 1 0 1 0 1 0 1 0 1 0 1 0 1 0\n",
      " 1 0 1 0 1 0 1 0 1 0 1 0 1 0 1 0 1 0 1 0 1 0 1 0 1 0 1 0 1 0 1 0 1 0 1 0 1\n",
      " 0 1 0 1 0 1 0 1 0 1 0 1 0 1 0 1 0 1 0 1 0 1 0 1 0 1 0 1 0 1 0 1 0 1 0 1 0\n",
      " 1 0 1 0 1 0 1 0 1 0 1 0 1 0 1]\n"
     ]
    }
   ],
   "source": [
    "clusterer = AgglomerativeClustering(n_clusters=2, linkage='ward').fit(data.values)\n",
    "y = clusterer.labels_\n",
    "print(y)"
   ]
  },
  {
   "cell_type": "code",
   "execution_count": 7,
   "metadata": {
    "scrolled": true
   },
   "outputs": [
    {
     "name": "stdout",
     "output_type": "stream",
     "text": [
      "---> light text\n"
     ]
    },
    {
     "data": {
      "image/png": "[encoded data removed]",
      "text/plain": [
       "<Figure size 432x288 with 1 Axes>"
      ]
     },
     "metadata": {
      "needs_background": "light"
     },
     "output_type": "display_data"
    },
    {
     "name": "stdout",
     "output_type": "stream",
     "text": [
      "---> dark text\n"
     ]
    },
    {
     "data": {
      "image/png": "[encoded data removed]",
      "text/plain": [
       "<Figure size 432x288 with 1 Axes>"
      ]
     },
     "metadata": {
      "needs_background": "light"
     },
     "output_type": "display_data"
    }
   ],
   "source": [
    "for i, label in enumerate(y[:2]):\n",
    "    \n",
    "    if label == 0: # NB: must check for most appriate label-to-class assignment.\n",
    "        print('---> light text')\n",
    "        display_RGB_colour(colour=tuple(data.iloc[i, :]), font_col='#fff')\n",
    "        \n",
    "    else:\n",
    "        print('---> dark text')\n",
    "        display_RGB_colour(colour=tuple(data.iloc[i, :]), font_col='#000')"
   ]
  },
  {
   "cell_type": "markdown",
   "metadata": {},
   "source": [
    "## Train/test split:"
   ]
  },
  {
   "cell_type": "code",
   "execution_count": 8,
   "metadata": {},
   "outputs": [],
   "source": [
    "# Import libraries:\n",
    "from sklearn.model_selection import train_test_split"
   ]
  },
  {
   "cell_type": "code",
   "execution_count": 9,
   "metadata": {
    "scrolled": true
   },
   "outputs": [
    {
     "data": {
      "text/html": [
       "<div>\n",
       "<style scoped>\n",
       "    .dataframe tbody tr th:only-of-type {\n",
       "        vertical-align: middle;\n",
       "    }\n",
       "\n",
       "    .dataframe tbody tr th {\n",
       "        vertical-align: top;\n",
       "    }\n",
       "\n",
       "    .dataframe thead th {\n",
       "        text-align: right;\n",
       "    }\n",
       "</style>\n",
       "<table border=\"1\" class=\"dataframe\">\n",
       "  <thead>\n",
       "    <tr style=\"text-align: right;\">\n",
       "      <th></th>\n",
       "      <th>R</th>\n",
       "      <th>G</th>\n",
       "      <th>B</th>\n",
       "      <th>y</th>\n",
       "    </tr>\n",
       "  </thead>\n",
       "  <tbody>\n",
       "    <tr>\n",
       "      <td>142</td>\n",
       "      <td>59</td>\n",
       "      <td>97</td>\n",
       "      <td>99</td>\n",
       "      <td>0</td>\n",
       "    </tr>\n",
       "    <tr>\n",
       "      <td>34</td>\n",
       "      <td>56</td>\n",
       "      <td>82</td>\n",
       "      <td>1</td>\n",
       "      <td>0</td>\n",
       "    </tr>\n",
       "    <tr>\n",
       "      <td>198</td>\n",
       "      <td>126</td>\n",
       "      <td>91</td>\n",
       "      <td>5</td>\n",
       "      <td>0</td>\n",
       "    </tr>\n",
       "    <tr>\n",
       "      <td>16</td>\n",
       "      <td>80</td>\n",
       "      <td>52</td>\n",
       "      <td>110</td>\n",
       "      <td>0</td>\n",
       "    </tr>\n",
       "    <tr>\n",
       "      <td>19</td>\n",
       "      <td>176</td>\n",
       "      <td>166</td>\n",
       "      <td>254</td>\n",
       "      <td>1</td>\n",
       "    </tr>\n",
       "  </tbody>\n",
       "</table>\n",
       "</div>"
      ],
      "text/plain": [
       "       R    G    B  y\n",
       "142   59   97   99  0\n",
       "34    56   82    1  0\n",
       "198  126   91    5  0\n",
       "16    80   52  110  0\n",
       "19   176  166  254  1"
      ]
     },
     "metadata": {},
     "output_type": "display_data"
    },
    {
     "data": {
      "text/html": [
       "<div>\n",
       "<style scoped>\n",
       "    .dataframe tbody tr th:only-of-type {\n",
       "        vertical-align: middle;\n",
       "    }\n",
       "\n",
       "    .dataframe tbody tr th {\n",
       "        vertical-align: top;\n",
       "    }\n",
       "\n",
       "    .dataframe thead th {\n",
       "        text-align: right;\n",
       "    }\n",
       "</style>\n",
       "<table border=\"1\" class=\"dataframe\">\n",
       "  <thead>\n",
       "    <tr style=\"text-align: right;\">\n",
       "      <th></th>\n",
       "      <th>R</th>\n",
       "      <th>G</th>\n",
       "      <th>B</th>\n",
       "      <th>y</th>\n",
       "    </tr>\n",
       "  </thead>\n",
       "  <tbody>\n",
       "    <tr>\n",
       "      <td>163</td>\n",
       "      <td>144</td>\n",
       "      <td>167</td>\n",
       "      <td>206</td>\n",
       "      <td>1</td>\n",
       "    </tr>\n",
       "    <tr>\n",
       "      <td>59</td>\n",
       "      <td>218</td>\n",
       "      <td>237</td>\n",
       "      <td>223</td>\n",
       "      <td>1</td>\n",
       "    </tr>\n",
       "    <tr>\n",
       "      <td>63</td>\n",
       "      <td>221</td>\n",
       "      <td>237</td>\n",
       "      <td>222</td>\n",
       "      <td>1</td>\n",
       "    </tr>\n",
       "    <tr>\n",
       "      <td>176</td>\n",
       "      <td>28</td>\n",
       "      <td>80</td>\n",
       "      <td>111</td>\n",
       "      <td>0</td>\n",
       "    </tr>\n",
       "    <tr>\n",
       "      <td>87</td>\n",
       "      <td>178</td>\n",
       "      <td>242</td>\n",
       "      <td>154</td>\n",
       "      <td>1</td>\n",
       "    </tr>\n",
       "  </tbody>\n",
       "</table>\n",
       "</div>"
      ],
      "text/plain": [
       "       R    G    B  y\n",
       "163  144  167  206  1\n",
       "59   218  237  223  1\n",
       "63   221  237  222  1\n",
       "176   28   80  111  0\n",
       "87   178  242  154  1"
      ]
     },
     "metadata": {},
     "output_type": "display_data"
    }
   ],
   "source": [
    "# Split data into training & testing sets:\n",
    "train, test = train_test_split(data.join(pd.Series(y, name='y')))\n",
    "\n",
    "display(train.head())\n",
    "display(test.head())"
   ]
  },
  {
   "cell_type": "markdown",
   "metadata": {},
   "source": [
    "## Building the NN:"
   ]
  },
  {
   "cell_type": "code",
   "execution_count": 10,
   "metadata": {},
   "outputs": [],
   "source": [
    "# Define Neuron class:\n",
    "class NeuralNetwork():\n",
    "    def __init__(self, X, y, bias=1, eta=0.1, w1=None, w2=None, num_nodes=2, num_hidden=2, linear=False):\n",
    "        self.X = X\n",
    "        self.y = y\n",
    "        self.eta = eta\n",
    "        self.w1 = np.random.rand(num_nodes, self.X.shape[0]) if w1 is None else w1\n",
    "        self.w2 = np.random.rand(self.y.shape[0], num_nodes) if w2 is None else w2\n",
    "        self.b1 = np.ones((self.w1.shape[0], self.X.shape[1]), dtype=float)*bias\n",
    "        self.b2 = np.ones(self.y.shape, dtype=float)*bias\n",
    "        self.output = np.zeros(self.y.shape)\n",
    "        self.linear = linear\n",
    "    \n",
    "    def activ_func(self, x):\n",
    "        if self.linear is True: # For linear:\n",
    "            return x\n",
    "        else: # For sigmoid:\n",
    "            return 1.0/(1.0 + np.exp(-x))\n",
    "    \n",
    "    def forwardpass(self):\n",
    "        self.layer1 = self.activ_func(np.dot(self.w1, self.X) + self.b1)\n",
    "        self.output = self.activ_func(np.dot(self.w2, self.layer1) + self.b2)\n",
    "        \n",
    "    def activ_deriv(self, x):\n",
    "        if self.linear is True: # For linear:\n",
    "            return 1\n",
    "        else: # For sigmoid:\n",
    "            return self.activ_func(x)*(1-self.activ_func(x))\n",
    "    \n",
    "    def error_deriv(self):\n",
    "        return -(self.y-self.output)\n",
    "    \n",
    "    def backprop(self):\n",
    "        '''Apply chain rule to find derivative of loss function.'''\n",
    "        # Output layer:\n",
    "        big_delta = self.error_deriv() * self.activ_deriv(x=np.dot(self.w2, self.layer1))\n",
    "        output_unit = -self.eta * np.dot(big_delta, self.layer1.T)\n",
    "\n",
    "        # Hidden layer:\n",
    "        sml_delta = np.dot(big_delta.T, self.w2).T * self.activ_deriv(x=np.dot(self.w1, self.X))        \n",
    "        hidden_unit = -self.eta * np.dot(sml_delta, self.X.T)\n",
    "        \n",
    "        '''Update the weights and biases with the derivative (slope) of the loss function.'''\n",
    "        # Weights:\n",
    "        self.w2 += output_unit\n",
    "        self.w1 += hidden_unit\n",
    "        \n",
    "        # Biases:\n",
    "        self.b2 += -self.eta * big_delta * self.b2\n",
    "        self.b1 += -self.eta * sml_delta * self.b1\n",
    "    \n",
    "    def fit(self, Xs, ys, iterations=20):\n",
    "        y_preds = []\n",
    "        for i, X in enumerate(Xs): # Per data point:\n",
    "            self.X = X\n",
    "            self.y = ys[i]\n",
    "            \n",
    "            for i in range(iterations): # Per iteration:\n",
    "                self.forwardpass()\n",
    "                self.backprop()\n",
    "                \n",
    "            y_preds.append(self.output)\n",
    "            \n",
    "        return np.array(y_preds)\n",
    "    \n",
    "    def predict(self, Xs):\n",
    "        y_preds = []\n",
    "        for X in Xs:\n",
    "            self.X = X\n",
    "            self.forwardpass()\n",
    "            \n",
    "            y_preds.append(self.output)\n",
    "            \n",
    "        return np.array(y_preds)\n",
    "    \n",
    "    def display_test_results(self, Xs, y_preds):\n",
    "        for i, y in enumerate(y_preds):\n",
    "            if y == 0:\n",
    "                print(y, '---> light text')\n",
    "                display_RGB_colour(colour=tuple(Xs[i, :]), font_col='#fff')\n",
    "\n",
    "            else:\n",
    "                print(y, '---> dark text')\n",
    "                display_RGB_colour(colour=tuple(Xs[i, :]), font_col='#000')"
   ]
  },
  {
   "cell_type": "markdown",
   "metadata": {},
   "source": [
    "## Use the NN on dummy example:"
   ]
  },
  {
   "cell_type": "code",
   "execution_count": 11,
   "metadata": {},
   "outputs": [
    {
     "name": "stdout",
     "output_type": "stream",
     "text": [
      "\n",
      "Forward Pass:\n",
      "output:\n",
      "[[2.]\n",
      " [2.]]\n",
      "\n",
      "Backpropagation:\n",
      "hidden:\n",
      "[[-1.   0.1]\n",
      " [ 0.   0.8]]\n",
      "output:\n",
      "[[ 0.9 -0.2]\n",
      " [-1.2  0.6]]\n",
      "\n",
      "Forward Pass:\n",
      "output:\n",
      "[[1.66]\n",
      " [0.32]]\n"
     ]
    }
   ],
   "source": [
    "# Setup inputs:\n",
    "X = np.array([0, 1]).reshape((2,1))\n",
    "y = np.array([1, 0]).reshape((2,1))\n",
    "w1 = np.array([[-1, 0],\n",
    "               [0, 1]], dtype=float)\n",
    "w2 = np.array([[1, 0],\n",
    "               [-1, 1]], dtype=float)\n",
    "\n",
    "# Initialise NN:\n",
    "NN = NeuralNetwork(X=X,\n",
    "                   y=y,\n",
    "                   bias=1,\n",
    "                   eta=0.1,\n",
    "                   w1=w1,\n",
    "                   w2=w2,\n",
    "                   num_nodes=2,\n",
    "                   linear=True)\n",
    "\n",
    "# Use NN:\n",
    "NN.forwardpass()\n",
    "print('\\nForward Pass:\\noutput:\\n{}'.format(NN.output))\n",
    "\n",
    "NN.backprop()\n",
    "print('\\nBackpropagation:\\nhidden:\\n{}\\noutput:\\n{}'.format(NN.w1, NN.w2))\n",
    "\n",
    "NN.forwardpass()\n",
    "print('\\nForward Pass:\\noutput:\\n{}'.format(NN.output))"
   ]
  },
  {
   "cell_type": "markdown",
   "metadata": {},
   "source": [
    "## Train the NN on training set:"
   ]
  },
  {
   "cell_type": "code",
   "execution_count": 12,
   "metadata": {},
   "outputs": [
    {
     "name": "stdout",
     "output_type": "stream",
     "text": [
      "X:\n",
      "[[59]\n",
      " [97]\n",
      " [99]]\n",
      "y:\n",
      "[[0]]\n",
      "\n",
      "Forward Pass:\n",
      "output:\n",
      "[[0.99148359]]\n",
      "\n",
      "Backpropagation:\n",
      "hidden:\n",
      "[[0.52474595 0.06149922 0.802029  ]\n",
      " [0.15658505 0.9401623  0.52745853]\n",
      " [0.6025448  0.65560032 0.45756057]\n",
      " [0.69052728 0.41612776 0.82280157]\n",
      " [0.95418826 0.36002632 0.03708779]\n",
      " [0.64598053 0.37466016 0.10058649]\n",
      " [0.30550836 0.28938723 0.80796671]\n",
      " [0.24348678 0.05105341 0.37871315]\n",
      " [0.92934918 0.0239447  0.0129707 ]\n",
      " [0.12498716 0.29316263 0.71664844]]\n",
      "output:\n",
      "[[0.42194578 0.11692613 0.01192931 0.49295524 0.2342046  0.81304991\n",
      "  0.30072133 0.94628577 0.00845935 0.24493694]]\n",
      "\n",
      "Forward Pass:\n",
      "output:\n",
      "[[0.98979717]]\n"
     ]
    }
   ],
   "source": [
    "# Setup inputs:\n",
    "input_X = train.values[0, :3].reshape((3,1))\n",
    "input_y = train.values[0, 3].reshape((1,1))\n",
    "print('X:\\n{}\\ny:\\n{}'.format(input_X, input_y))\n",
    "\n",
    "# Initialise NN:\n",
    "NN = NeuralNetwork(X=input_X,\n",
    "                   y=input_y,\n",
    "                   bias=1,\n",
    "                   eta=0.75,\n",
    "                   w1=None,\n",
    "                   w2=None,\n",
    "                   num_nodes=10,\n",
    "                   linear=False)\n",
    "\n",
    "# Use NN:\n",
    "NN.forwardpass()\n",
    "print('\\nForward Pass:\\noutput:\\n{}'.format(NN.output))\n",
    "\n",
    "NN.backprop()\n",
    "print('\\nBackpropagation:\\nhidden:\\n{}\\noutput:\\n{}'.format(NN.w1, NN.w2))\n",
    "\n",
    "NN.forwardpass()\n",
    "print('\\nForward Pass:\\noutput:\\n{}'.format(NN.output))"
   ]
  },
  {
   "cell_type": "code",
   "execution_count": 13,
   "metadata": {},
   "outputs": [
    {
     "name": "stdout",
     "output_type": "stream",
     "text": [
      "Shapes of inputs: (150, 3, 1) (150, 1)\n",
      "Shape of y_preds: (150, 1, 1)\n"
     ]
    }
   ],
   "source": [
    "# Setup inputs:\n",
    "tr_i = train.shape[0]\n",
    "train_Xs = train.values[:, :3].reshape((tr_i, 3, 1))\n",
    "train_ys = train.values[:, 3].reshape((tr_i, 1))\n",
    "print('Shapes of inputs:', train_Xs.shape, train_ys.shape)\n",
    "\n",
    "# Train NN:\n",
    "train_y_preds = NN.fit(Xs=train_Xs, ys=train_ys, iterations=20)\n",
    "print('Shape of y_preds:', train_y_preds.shape)"
   ]
  },
  {
   "cell_type": "code",
   "execution_count": 14,
   "metadata": {},
   "outputs": [
    {
     "data": {
      "text/plain": [
       "array([[[0.10008778]],\n",
       "\n",
       "       [[0.05993819]],\n",
       "\n",
       "       [[0.04648535]],\n",
       "\n",
       "       [[0.03921082]],\n",
       "\n",
       "       [[0.93918223]],\n",
       "\n",
       "       [[0.96665677]],\n",
       "\n",
       "       [[0.97486685]],\n",
       "\n",
       "       [[0.9791295 ]],\n",
       "\n",
       "       [[0.08940074]],\n",
       "\n",
       "       [[0.0570345 ]],\n",
       "\n",
       "       [[0.04494395]],\n",
       "\n",
       "       [[0.94120477]],\n",
       "\n",
       "       [[0.08248751]],\n",
       "\n",
       "       [[0.94711698]],\n",
       "\n",
       "       [[0.96782592]],\n",
       "\n",
       "       [[0.08523487]],\n",
       "\n",
       "       [[0.9468929 ]],\n",
       "\n",
       "       [[0.08213164]],\n",
       "\n",
       "       [[0.0543533 ]],\n",
       "\n",
       "       [[0.94258652]],\n",
       "\n",
       "       [[0.08142228]],\n",
       "\n",
       "       [[0.05396202]],\n",
       "\n",
       "       [[0.0429905 ]],\n",
       "\n",
       "       [[0.93910995]],\n",
       "\n",
       "       [[0.9652255 ]],\n",
       "\n",
       "       [[0.08374097]],\n",
       "\n",
       "       [[0.05446299]],\n",
       "\n",
       "       [[0.94182548]],\n",
       "\n",
       "       [[0.08064609]],\n",
       "\n",
       "       [[0.94482702]],\n",
       "\n",
       "       [[0.96606069]],\n",
       "\n",
       "       [[0.0833052 ]],\n",
       "\n",
       "       [[0.94463477]],\n",
       "\n",
       "       [[0.08020239]],\n",
       "\n",
       "       [[0.94399289]],\n",
       "\n",
       "       [[0.96541224]],\n",
       "\n",
       "       [[0.08264517]],\n",
       "\n",
       "       [[0.94379815]],\n",
       "\n",
       "       [[0.9651495 ]],\n",
       "\n",
       "       [[0.97287587]],\n",
       "\n",
       "       [[0.08449084]],\n",
       "\n",
       "       [[0.94354655]],\n",
       "\n",
       "       [[0.9648744 ]],\n",
       "\n",
       "       [[0.97263131]],\n",
       "\n",
       "       [[0.97690735]],\n",
       "\n",
       "       [[0.97969808]],\n",
       "\n",
       "       [[0.08762094]],\n",
       "\n",
       "       [[0.94338023]],\n",
       "\n",
       "       [[0.96462568]],\n",
       "\n",
       "       [[0.08176949]],\n",
       "\n",
       "       [[0.05281545]],\n",
       "\n",
       "       [[0.9389453 ]],\n",
       "\n",
       "       [[0.96330891]],\n",
       "\n",
       "       [[0.97165505]],\n",
       "\n",
       "       [[0.97617293]],\n",
       "\n",
       "       [[0.97909529]],\n",
       "\n",
       "       [[0.08701671]],\n",
       "\n",
       "       [[0.94258519]],\n",
       "\n",
       "       [[0.96402151]],\n",
       "\n",
       "       [[0.97189704]],\n",
       "\n",
       "       [[0.08343003]],\n",
       "\n",
       "       [[0.94197012]],\n",
       "\n",
       "       [[0.0780807 ]],\n",
       "\n",
       "       [[0.05137311]],\n",
       "\n",
       "       [[0.04085318]],\n",
       "\n",
       "       [[0.93474592]],\n",
       "\n",
       "       [[0.96173102]],\n",
       "\n",
       "       [[0.08040284]],\n",
       "\n",
       "       [[0.94105176]],\n",
       "\n",
       "       [[0.07756777]],\n",
       "\n",
       "       [[0.05099747]],\n",
       "\n",
       "       [[0.93694343]],\n",
       "\n",
       "       [[0.96185486]],\n",
       "\n",
       "       [[0.08008329]],\n",
       "\n",
       "       [[0.94037353]],\n",
       "\n",
       "       [[0.07711233]],\n",
       "\n",
       "       [[0.05065552]],\n",
       "\n",
       "       [[0.04026726]],\n",
       "\n",
       "       [[0.93339378]],\n",
       "\n",
       "       [[0.9606697 ]],\n",
       "\n",
       "       [[0.96970601]],\n",
       "\n",
       "       [[0.97455541]],\n",
       "\n",
       "       [[0.97768041]],\n",
       "\n",
       "       [[0.08559113]],\n",
       "\n",
       "       [[0.05282402]],\n",
       "\n",
       "       [[0.04129388]],\n",
       "\n",
       "       [[0.03496853]],\n",
       "\n",
       "       [[0.03084146]],\n",
       "\n",
       "       [[0.0278812 ]],\n",
       "\n",
       "       [[0.92588505]],\n",
       "\n",
       "       [[0.07575641]],\n",
       "\n",
       "       [[0.93908306]],\n",
       "\n",
       "       [[0.07646247]],\n",
       "\n",
       "       [[0.93885917]],\n",
       "\n",
       "       [[0.96151057]],\n",
       "\n",
       "       [[0.07932193]],\n",
       "\n",
       "       [[0.9388062 ]],\n",
       "\n",
       "       [[0.07612171]],\n",
       "\n",
       "       [[0.93827203]],\n",
       "\n",
       "       [[0.07592889]],\n",
       "\n",
       "       [[0.04977242]],\n",
       "\n",
       "       [[0.03953673]],\n",
       "\n",
       "       [[0.03373565]],\n",
       "\n",
       "       [[0.02988546]],\n",
       "\n",
       "       [[0.027095  ]],\n",
       "\n",
       "       [[0.02495468]],\n",
       "\n",
       "       [[0.02324666]],\n",
       "\n",
       "       [[0.91940704]],\n",
       "\n",
       "       [[0.07456629]],\n",
       "\n",
       "       [[0.04928806]],\n",
       "\n",
       "       [[0.93410192]],\n",
       "\n",
       "       [[0.95971301]],\n",
       "\n",
       "       [[0.07849565]],\n",
       "\n",
       "       [[0.05033338]],\n",
       "\n",
       "       [[0.03974577]],\n",
       "\n",
       "       [[0.03381612]],\n",
       "\n",
       "       [[0.02990685]],\n",
       "\n",
       "       [[0.92618313]],\n",
       "\n",
       "       [[0.07463491]],\n",
       "\n",
       "       [[0.93710192]],\n",
       "\n",
       "       [[0.07528683]],\n",
       "\n",
       "       [[0.04928111]],\n",
       "\n",
       "       [[0.93339076]],\n",
       "\n",
       "       [[0.95912836]],\n",
       "\n",
       "       [[0.96818007]],\n",
       "\n",
       "       [[0.08047965]],\n",
       "\n",
       "       [[0.05063274]],\n",
       "\n",
       "       [[0.03978146]],\n",
       "\n",
       "       [[0.03376862]],\n",
       "\n",
       "       [[0.02982571]],\n",
       "\n",
       "       [[0.92554889]],\n",
       "\n",
       "       [[0.07419636]],\n",
       "\n",
       "       [[0.93634969]],\n",
       "\n",
       "       [[0.07486928]],\n",
       "\n",
       "       [[0.93618824]],\n",
       "\n",
       "       [[0.95948752]],\n",
       "\n",
       "       [[0.96816652]],\n",
       "\n",
       "       [[0.08031527]],\n",
       "\n",
       "       [[0.93639697]],\n",
       "\n",
       "       [[0.95943219]],\n",
       "\n",
       "       [[0.0778362 ]],\n",
       "\n",
       "       [[0.0496645 ]],\n",
       "\n",
       "       [[0.93240375]],\n",
       "\n",
       "       [[0.95827305]],\n",
       "\n",
       "       [[0.9674485 ]],\n",
       "\n",
       "       [[0.97248193]],\n",
       "\n",
       "       [[0.97576309]],\n",
       "\n",
       "       [[0.08408141]],\n",
       "\n",
       "       [[0.05117319]],\n",
       "\n",
       "       [[0.03987578]]])"
      ]
     },
     "execution_count": 14,
     "metadata": {},
     "output_type": "execute_result"
    }
   ],
   "source": [
    "train_y_preds"
   ]
  },
  {
   "cell_type": "code",
   "execution_count": 15,
   "metadata": {},
   "outputs": [
    {
     "data": {
      "text/html": [
       "<div>\n",
       "<style scoped>\n",
       "    .dataframe tbody tr th:only-of-type {\n",
       "        vertical-align: middle;\n",
       "    }\n",
       "\n",
       "    .dataframe tbody tr th {\n",
       "        vertical-align: top;\n",
       "    }\n",
       "\n",
       "    .dataframe thead th {\n",
       "        text-align: right;\n",
       "    }\n",
       "</style>\n",
       "<table border=\"1\" class=\"dataframe\">\n",
       "  <thead>\n",
       "    <tr style=\"text-align: right;\">\n",
       "      <th></th>\n",
       "      <th>y_true</th>\n",
       "      <th>y_pred</th>\n",
       "      <th>same</th>\n",
       "    </tr>\n",
       "  </thead>\n",
       "  <tbody>\n",
       "    <tr>\n",
       "      <td>0</td>\n",
       "      <td>0</td>\n",
       "      <td>0</td>\n",
       "      <td>True</td>\n",
       "    </tr>\n",
       "    <tr>\n",
       "      <td>1</td>\n",
       "      <td>0</td>\n",
       "      <td>0</td>\n",
       "      <td>True</td>\n",
       "    </tr>\n",
       "    <tr>\n",
       "      <td>2</td>\n",
       "      <td>0</td>\n",
       "      <td>0</td>\n",
       "      <td>True</td>\n",
       "    </tr>\n",
       "    <tr>\n",
       "      <td>3</td>\n",
       "      <td>0</td>\n",
       "      <td>0</td>\n",
       "      <td>True</td>\n",
       "    </tr>\n",
       "    <tr>\n",
       "      <td>4</td>\n",
       "      <td>1</td>\n",
       "      <td>1</td>\n",
       "      <td>True</td>\n",
       "    </tr>\n",
       "  </tbody>\n",
       "</table>\n",
       "</div>"
      ],
      "text/plain": [
       "   y_true  y_pred  same\n",
       "0       0       0  True\n",
       "1       0       0  True\n",
       "2       0       0  True\n",
       "3       0       0  True\n",
       "4       1       1  True"
      ]
     },
     "metadata": {},
     "output_type": "display_data"
    },
    {
     "name": "stdout",
     "output_type": "stream",
     "text": [
      "0% error\n"
     ]
    }
   ],
   "source": [
    "# Training results:\n",
    "train_results = pd.DataFrame({'y_true': train.y.values,\n",
    "                              'y_pred': np.round(train_y_preds).reshape((tr_i,)).astype(int),\n",
    "                              'same': train.y.values == np.round(train_y_preds).reshape((tr_i,)).astype(int)})\n",
    "\n",
    "display(train_results.head())\n",
    "\n",
    "print('{}% error'.format(round(len(train_results[train_results.same==False]) / len(train_results) * 100)))"
   ]
  },
  {
   "cell_type": "code",
   "execution_count": 16,
   "metadata": {
    "scrolled": true
   },
   "outputs": [
    {
     "name": "stdout",
     "output_type": "stream",
     "text": [
      "Shapes of inputs: (50, 3, 1) (50, 1)\n",
      "Shape of y_preds: (50, 1, 1)\n"
     ]
    }
   ],
   "source": [
    "# Setup inputs:\n",
    "te_i = test.shape[0]\n",
    "test_Xs = test.values[:, :3].reshape((te_i, 3, 1))\n",
    "test_ys = test.values[:, 3].reshape((te_i, 1))\n",
    "print('Shapes of inputs:', test_Xs.shape, test_ys.shape)\n",
    "\n",
    "# Test NN:\n",
    "test_y_preds = NN.predict(Xs=test_Xs)\n",
    "print('Shape of y_preds:', test_y_preds.shape)"
   ]
  },
  {
   "cell_type": "code",
   "execution_count": 17,
   "metadata": {},
   "outputs": [
    {
     "data": {
      "text/html": [
       "<div>\n",
       "<style scoped>\n",
       "    .dataframe tbody tr th:only-of-type {\n",
       "        vertical-align: middle;\n",
       "    }\n",
       "\n",
       "    .dataframe tbody tr th {\n",
       "        vertical-align: top;\n",
       "    }\n",
       "\n",
       "    .dataframe thead th {\n",
       "        text-align: right;\n",
       "    }\n",
       "</style>\n",
       "<table border=\"1\" class=\"dataframe\">\n",
       "  <thead>\n",
       "    <tr style=\"text-align: right;\">\n",
       "      <th></th>\n",
       "      <th>y_true</th>\n",
       "      <th>y_pred</th>\n",
       "      <th>same</th>\n",
       "    </tr>\n",
       "  </thead>\n",
       "  <tbody>\n",
       "    <tr>\n",
       "      <td>0</td>\n",
       "      <td>1</td>\n",
       "      <td>0</td>\n",
       "      <td>False</td>\n",
       "    </tr>\n",
       "    <tr>\n",
       "      <td>1</td>\n",
       "      <td>1</td>\n",
       "      <td>0</td>\n",
       "      <td>False</td>\n",
       "    </tr>\n",
       "    <tr>\n",
       "      <td>2</td>\n",
       "      <td>1</td>\n",
       "      <td>0</td>\n",
       "      <td>False</td>\n",
       "    </tr>\n",
       "    <tr>\n",
       "      <td>3</td>\n",
       "      <td>0</td>\n",
       "      <td>0</td>\n",
       "      <td>True</td>\n",
       "    </tr>\n",
       "    <tr>\n",
       "      <td>4</td>\n",
       "      <td>1</td>\n",
       "      <td>0</td>\n",
       "      <td>False</td>\n",
       "    </tr>\n",
       "    <tr>\n",
       "      <td>5</td>\n",
       "      <td>0</td>\n",
       "      <td>0</td>\n",
       "      <td>True</td>\n",
       "    </tr>\n",
       "    <tr>\n",
       "      <td>6</td>\n",
       "      <td>1</td>\n",
       "      <td>0</td>\n",
       "      <td>False</td>\n",
       "    </tr>\n",
       "    <tr>\n",
       "      <td>7</td>\n",
       "      <td>1</td>\n",
       "      <td>0</td>\n",
       "      <td>False</td>\n",
       "    </tr>\n",
       "    <tr>\n",
       "      <td>8</td>\n",
       "      <td>1</td>\n",
       "      <td>0</td>\n",
       "      <td>False</td>\n",
       "    </tr>\n",
       "    <tr>\n",
       "      <td>9</td>\n",
       "      <td>0</td>\n",
       "      <td>0</td>\n",
       "      <td>True</td>\n",
       "    </tr>\n",
       "    <tr>\n",
       "      <td>10</td>\n",
       "      <td>0</td>\n",
       "      <td>0</td>\n",
       "      <td>True</td>\n",
       "    </tr>\n",
       "    <tr>\n",
       "      <td>11</td>\n",
       "      <td>1</td>\n",
       "      <td>0</td>\n",
       "      <td>False</td>\n",
       "    </tr>\n",
       "    <tr>\n",
       "      <td>12</td>\n",
       "      <td>1</td>\n",
       "      <td>0</td>\n",
       "      <td>False</td>\n",
       "    </tr>\n",
       "    <tr>\n",
       "      <td>13</td>\n",
       "      <td>0</td>\n",
       "      <td>0</td>\n",
       "      <td>True</td>\n",
       "    </tr>\n",
       "    <tr>\n",
       "      <td>14</td>\n",
       "      <td>0</td>\n",
       "      <td>0</td>\n",
       "      <td>True</td>\n",
       "    </tr>\n",
       "  </tbody>\n",
       "</table>\n",
       "</div>"
      ],
      "text/plain": [
       "    y_true  y_pred   same\n",
       "0        1       0  False\n",
       "1        1       0  False\n",
       "2        1       0  False\n",
       "3        0       0   True\n",
       "4        1       0  False\n",
       "5        0       0   True\n",
       "6        1       0  False\n",
       "7        1       0  False\n",
       "8        1       0  False\n",
       "9        0       0   True\n",
       "10       0       0   True\n",
       "11       1       0  False\n",
       "12       1       0  False\n",
       "13       0       0   True\n",
       "14       0       0   True"
      ]
     },
     "metadata": {},
     "output_type": "display_data"
    },
    {
     "name": "stdout",
     "output_type": "stream",
     "text": [
      "54% error\n"
     ]
    }
   ],
   "source": [
    "# Testing results:\n",
    "test_results = pd.DataFrame({'y_true': test.y.values,\n",
    "                             'y_pred': np.round(test_y_preds).reshape((te_i,)).astype(int),\n",
    "                             'same': test.y.values == np.round(test_y_preds).reshape((te_i,)).astype(int)})\n",
    "\n",
    "display(test_results.head(15))\n",
    "\n",
    "print('{}% error'.format(round(len(test_results[test_results.same==False]) / len(test_results) * 100)))"
   ]
  },
  {
   "cell_type": "code",
   "execution_count": 18,
   "metadata": {},
   "outputs": [
    {
     "name": "stdout",
     "output_type": "stream",
     "text": [
      "0 ---> light text\n"
     ]
    },
    {
     "data": {
      "image/png": "[encoded data removed]",
      "text/plain": [
       "<Figure size 432x288 with 1 Axes>"
      ]
     },
     "metadata": {
      "needs_background": "light"
     },
     "output_type": "display_data"
    },
    {
     "name": "stdout",
     "output_type": "stream",
     "text": [
      "0 ---> light text\n"
     ]
    },
    {
     "data": {
      "image/png": "[encoded data removed]",
      "text/plain": [
       "<Figure size 432x288 with 1 Axes>"
      ]
     },
     "metadata": {
      "needs_background": "light"
     },
     "output_type": "display_data"
    },
    {
     "name": "stdout",
     "output_type": "stream",
     "text": [
      "0 ---> light text\n"
     ]
    },
    {
     "data": {
      "image/png": "[encoded data removed]",
      "text/plain": [
       "<Figure size 432x288 with 1 Axes>"
      ]
     },
     "metadata": {
      "needs_background": "light"
     },
     "output_type": "display_data"
    },
    {
     "name": "stdout",
     "output_type": "stream",
     "text": [
      "0 ---> light text\n"
     ]
    },
    {
     "data": {
      "image/png": "[encoded data removed]",
      "text/plain": [
       "<Figure size 432x288 with 1 Axes>"
      ]
     },
     "metadata": {
      "needs_background": "light"
     },
     "output_type": "display_data"
    },
    {
     "name": "stdout",
     "output_type": "stream",
     "text": [
      "0 ---> light text\n"
     ]
    },
    {
     "data": {
      "image/png": "[encoded data removed]",
      "text/plain": [
       "<Figure size 432x288 with 1 Axes>"
      ]
     },
     "metadata": {
      "needs_background": "light"
     },
     "output_type": "display_data"
    },
    {
     "name": "stdout",
     "output_type": "stream",
     "text": [
      "0 ---> light text\n"
     ]
    },
    {
     "data": {
      "image/png": "[encoded data removed]",
      "text/plain": [
       "<Figure size 432x288 with 1 Axes>"
      ]
     },
     "metadata": {
      "needs_background": "light"
     },
     "output_type": "display_data"
    },
    {
     "name": "stdout",
     "output_type": "stream",
     "text": [
      "0 ---> light text\n"
     ]
    },
    {
     "data": {
      "image/png": "[encoded data removed]",
      "text/plain": [
       "<Figure size 432x288 with 1 Axes>"
      ]
     },
     "metadata": {
      "needs_background": "light"
     },
     "output_type": "display_data"
    },
    {
     "name": "stdout",
     "output_type": "stream",
     "text": [
      "0 ---> light text\n"
     ]
    },
    {
     "data": {
      "image/png": "[encoded data removed]",
      "text/plain": [
       "<Figure size 432x288 with 1 Axes>"
      ]
     },
     "metadata": {
      "needs_background": "light"
     },
     "output_type": "display_data"
    },
    {
     "name": "stdout",
     "output_type": "stream",
     "text": [
      "0 ---> light text\n"
     ]
    },
    {
     "data": {
      "image/png": "[encoded data removed]",
      "text/plain": [
       "<Figure size 432x288 with 1 Axes>"
      ]
     },
     "metadata": {
      "needs_background": "light"
     },
     "output_type": "display_data"
    },
    {
     "name": "stdout",
     "output_type": "stream",
     "text": [
      "0 ---> light text\n"
     ]
    },
    {
     "data": {
      "image/png": "[encoded data removed]",
      "text/plain": [
       "<Figure size 432x288 with 1 Axes>"
      ]
     },
     "metadata": {
      "needs_background": "light"
     },
     "output_type": "display_data"
    },
    {
     "name": "stdout",
     "output_type": "stream",
     "text": [
      "0 ---> light text\n"
     ]
    },
    {
     "data": {
      "image/png": "[encoded data removed]",
      "text/plain": [
       "<Figure size 432x288 with 1 Axes>"
      ]
     },
     "metadata": {
      "needs_background": "light"
     },
     "output_type": "display_data"
    },
    {
     "name": "stdout",
     "output_type": "stream",
     "text": [
      "0 ---> light text\n"
     ]
    },
    {
     "data": {
      "image/png": "[encoded data removed]",
      "text/plain": [
       "<Figure size 432x288 with 1 Axes>"
      ]
     },
     "metadata": {
      "needs_background": "light"
     },
     "output_type": "display_data"
    },
    {
     "name": "stdout",
     "output_type": "stream",
     "text": [
      "0 ---> light text\n"
     ]
    },
    {
     "data": {
      "image/png": "[encoded data removed]",
      "text/plain": [
       "<Figure size 432x288 with 1 Axes>"
      ]
     },
     "metadata": {
      "needs_background": "light"
     },
     "output_type": "display_data"
    },
    {
     "name": "stdout",
     "output_type": "stream",
     "text": [
      "0 ---> light text\n"
     ]
    },
    {
     "data": {
      "image/png": "[encoded data removed]",
      "text/plain": [
       "<Figure size 432x288 with 1 Axes>"
      ]
     },
     "metadata": {
      "needs_background": "light"
     },
     "output_type": "display_data"
    },
    {
     "name": "stdout",
     "output_type": "stream",
     "text": [
      "0 ---> light text\n"
     ]
    },
    {
     "data": {
      "image/png": "[encoded data removed]",
      "text/plain": [
       "<Figure size 432x288 with 1 Axes>"
      ]
     },
     "metadata": {
      "needs_background": "light"
     },
     "output_type": "display_data"
    },
    {
     "name": "stdout",
     "output_type": "stream",
     "text": [
      "0 ---> light text\n"
     ]
    },
    {
     "data": {
      "image/png": "[encoded data removed]",
      "text/plain": [
       "<Figure size 432x288 with 1 Axes>"
      ]
     },
     "metadata": {
      "needs_background": "light"
     },
     "output_type": "display_data"
    },
    {
     "name": "stdout",
     "output_type": "stream",
     "text": [
      "0 ---> light text\n"
     ]
    },
    {
     "data": {
      "image/png": "[encoded data removed]",
      "text/plain": [
       "<Figure size 432x288 with 1 Axes>"
      ]
     },
     "metadata": {
      "needs_background": "light"
     },
     "output_type": "display_data"
    },
    {
     "name": "stdout",
     "output_type": "stream",
     "text": [
      "0 ---> light text\n"
     ]
    },
    {
     "data": {
      "image/png": "[encoded data removed]",
      "text/plain": [
       "<Figure size 432x288 with 1 Axes>"
      ]
     },
     "metadata": {
      "needs_background": "light"
     },
     "output_type": "display_data"
    },
    {
     "name": "stdout",
     "output_type": "stream",
     "text": [
      "0 ---> light text\n"
     ]
    },
    {
     "data": {
      "image/png": "[encoded data removed]",
      "text/plain": [
       "<Figure size 432x288 with 1 Axes>"
      ]
     },
     "metadata": {
      "needs_background": "light"
     },
     "output_type": "display_data"
    },
    {
     "name": "stdout",
     "output_type": "stream",
     "text": [
      "0 ---> light text\n"
     ]
    },
    {
     "data": {
      "image/png": "[encoded data removed]",
      "text/plain": [
       "<Figure size 432x288 with 1 Axes>"
      ]
     },
     "metadata": {
      "needs_background": "light"
     },
     "output_type": "display_data"
    },
    {
     "name": "stdout",
     "output_type": "stream",
     "text": [
      "0 ---> light text\n"
     ]
    },
    {
     "data": {
      "image/png": "[encoded data removed]",
      "text/plain": [
       "<Figure size 432x288 with 1 Axes>"
      ]
     },
     "metadata": {
      "needs_background": "light"
     },
     "output_type": "display_data"
    },
    {
     "name": "stdout",
     "output_type": "stream",
     "text": [
      "0 ---> light text\n"
     ]
    },
    {
     "data": {
      "image/png": "[encoded data removed]",
      "text/plain": [
       "<Figure size 432x288 with 1 Axes>"
      ]
     },
     "metadata": {
      "needs_background": "light"
     },
     "output_type": "display_data"
    },
    {
     "name": "stdout",
     "output_type": "stream",
     "text": [
      "0 ---> light text\n"
     ]
    },
    {
     "data": {
      "image/png": "[encoded data removed]",
      "text/plain": [
       "<Figure size 432x288 with 1 Axes>"
      ]
     },
     "metadata": {
      "needs_background": "light"
     },
     "output_type": "display_data"
    },
    {
     "name": "stdout",
     "output_type": "stream",
     "text": [
      "0 ---> light text\n"
     ]
    },
    {
     "data": {
      "image/png": "[encoded data removed]",
      "text/plain": [
       "<Figure size 432x288 with 1 Axes>"
      ]
     },
     "metadata": {
      "needs_background": "light"
     },
     "output_type": "display_data"
    },
    {
     "name": "stdout",
     "output_type": "stream",
     "text": [
      "0 ---> light text\n"
     ]
    },
    {
     "data": {
      "image/png": "[encoded data removed]",
      "text/plain": [
       "<Figure size 432x288 with 1 Axes>"
      ]
     },
     "metadata": {
      "needs_background": "light"
     },
     "output_type": "display_data"
    },
    {
     "name": "stdout",
     "output_type": "stream",
     "text": [
      "0 ---> light text\n"
     ]
    },
    {
     "data": {
      "image/png": "[encoded data removed]",
      "text/plain": [
       "<Figure size 432x288 with 1 Axes>"
      ]
     },
     "metadata": {
      "needs_background": "light"
     },
     "output_type": "display_data"
    },
    {
     "name": "stdout",
     "output_type": "stream",
     "text": [
      "0 ---> light text\n"
     ]
    },
    {
     "data": {
      "image/png": "[encoded data removed]",
      "text/plain": [
       "<Figure size 432x288 with 1 Axes>"
      ]
     },
     "metadata": {
      "needs_background": "light"
     },
     "output_type": "display_data"
    },
    {
     "name": "stdout",
     "output_type": "stream",
     "text": [
      "0 ---> light text\n"
     ]
    },
    {
     "data": {
      "image/png": "[encoded data removed]",
      "text/plain": [
       "<Figure size 432x288 with 1 Axes>"
      ]
     },
     "metadata": {
      "needs_background": "light"
     },
     "output_type": "display_data"
    },
    {
     "name": "stdout",
     "output_type": "stream",
     "text": [
      "0 ---> light text\n"
     ]
    },
    {
     "data": {
      "image/png": "[encoded data removed]",
      "text/plain": [
       "<Figure size 432x288 with 1 Axes>"
      ]
     },
     "metadata": {
      "needs_background": "light"
     },
     "output_type": "display_data"
    },
    {
     "name": "stdout",
     "output_type": "stream",
     "text": [
      "0 ---> light text\n"
     ]
    },
    {
     "data": {
      "image/png": "[encoded data removed]",
      "text/plain": [
       "<Figure size 432x288 with 1 Axes>"
      ]
     },
     "metadata": {
      "needs_background": "light"
     },
     "output_type": "display_data"
    },
    {
     "name": "stdout",
     "output_type": "stream",
     "text": [
      "0 ---> light text\n"
     ]
    },
    {
     "data": {
      "image/png": "[encoded data removed]",
      "text/plain": [
       "<Figure size 432x288 with 1 Axes>"
      ]
     },
     "metadata": {
      "needs_background": "light"
     },
     "output_type": "display_data"
    },
    {
     "name": "stdout",
     "output_type": "stream",
     "text": [
      "0 ---> light text\n"
     ]
    },
    {
     "data": {
      "image/png": "[encoded data removed]",
      "text/plain": [
       "<Figure size 432x288 with 1 Axes>"
      ]
     },
     "metadata": {
      "needs_background": "light"
     },
     "output_type": "display_data"
    },
    {
     "name": "stdout",
     "output_type": "stream",
     "text": [
      "0 ---> light text\n"
     ]
    },
    {
     "data": {
      "image/png": "[encoded data removed]",
      "text/plain": [
       "<Figure size 432x288 with 1 Axes>"
      ]
     },
     "metadata": {
      "needs_background": "light"
     },
     "output_type": "display_data"
    },
    {
     "name": "stdout",
     "output_type": "stream",
     "text": [
      "0 ---> light text\n"
     ]
    },
    {
     "data": {
      "image/png": "[encoded data removed]",
      "text/plain": [
       "<Figure size 432x288 with 1 Axes>"
      ]
     },
     "metadata": {
      "needs_background": "light"
     },
     "output_type": "display_data"
    },
    {
     "name": "stdout",
     "output_type": "stream",
     "text": [
      "0 ---> light text\n"
     ]
    },
    {
     "data": {
      "image/png": "[encoded data removed]",
      "text/plain": [
       "<Figure size 432x288 with 1 Axes>"
      ]
     },
     "metadata": {
      "needs_background": "light"
     },
     "output_type": "display_data"
    },
    {
     "name": "stdout",
     "output_type": "stream",
     "text": [
      "0 ---> light text\n"
     ]
    },
    {
     "data": {
      "image/png": "[encoded data removed]",
      "text/plain": [
       "<Figure size 432x288 with 1 Axes>"
      ]
     },
     "metadata": {
      "needs_background": "light"
     },
     "output_type": "display_data"
    },
    {
     "name": "stdout",
     "output_type": "stream",
     "text": [
      "0 ---> light text\n"
     ]
    },
    {
     "data": {
      "image/png": "[encoded data removed]",
      "text/plain": [
       "<Figure size 432x288 with 1 Axes>"
      ]
     },
     "metadata": {
      "needs_background": "light"
     },
     "output_type": "display_data"
    },
    {
     "name": "stdout",
     "output_type": "stream",
     "text": [
      "0 ---> light text\n"
     ]
    },
    {
     "data": {
      "image/png": "[encoded data removed]",
      "text/plain": [
       "<Figure size 432x288 with 1 Axes>"
      ]
     },
     "metadata": {
      "needs_background": "light"
     },
     "output_type": "display_data"
    },
    {
     "name": "stdout",
     "output_type": "stream",
     "text": [
      "0 ---> light text\n"
     ]
    },
    {
     "data": {
      "image/png": "[encoded data removed]",
      "text/plain": [
       "<Figure size 432x288 with 1 Axes>"
      ]
     },
     "metadata": {
      "needs_background": "light"
     },
     "output_type": "display_data"
    },
    {
     "name": "stdout",
     "output_type": "stream",
     "text": [
      "0 ---> light text\n"
     ]
    },
    {
     "data": {
      "image/png": "[encoded data removed]",
      "text/plain": [
       "<Figure size 432x288 with 1 Axes>"
      ]
     },
     "metadata": {
      "needs_background": "light"
     },
     "output_type": "display_data"
    },
    {
     "name": "stdout",
     "output_type": "stream",
     "text": [
      "0 ---> light text\n"
     ]
    },
    {
     "data": {
      "image/png": "[encoded data removed]",
      "text/plain": [
       "<Figure size 432x288 with 1 Axes>"
      ]
     },
     "metadata": {
      "needs_background": "light"
     },
     "output_type": "display_data"
    },
    {
     "name": "stdout",
     "output_type": "stream",
     "text": [
      "0 ---> light text\n"
     ]
    },
    {
     "data": {
      "image/png": "[encoded data removed]",
      "text/plain": [
       "<Figure size 432x288 with 1 Axes>"
      ]
     },
     "metadata": {
      "needs_background": "light"
     },
     "output_type": "display_data"
    },
    {
     "name": "stdout",
     "output_type": "stream",
     "text": [
      "0 ---> light text\n"
     ]
    },
    {
     "data": {
      "image/png": "[encoded data removed]",
      "text/plain": [
       "<Figure size 432x288 with 1 Axes>"
      ]
     },
     "metadata": {
      "needs_background": "light"
     },
     "output_type": "display_data"
    },
    {
     "name": "stdout",
     "output_type": "stream",
     "text": [
      "0 ---> light text\n"
     ]
    },
    {
     "data": {
      "image/png": "[encoded data removed]",
      "text/plain": [
       "<Figure size 432x288 with 1 Axes>"
      ]
     },
     "metadata": {
      "needs_background": "light"
     },
     "output_type": "display_data"
    },
    {
     "name": "stdout",
     "output_type": "stream",
     "text": [
      "0 ---> light text\n"
     ]
    },
    {
     "data": {
      "image/png": "[encoded data removed]",
      "text/plain": [
       "<Figure size 432x288 with 1 Axes>"
      ]
     },
     "metadata": {
      "needs_background": "light"
     },
     "output_type": "display_data"
    },
    {
     "name": "stdout",
     "output_type": "stream",
     "text": [
      "0 ---> light text\n"
     ]
    },
    {
     "data": {
      "image/png": "[encoded data removed]",
      "text/plain": [
       "<Figure size 432x288 with 1 Axes>"
      ]
     },
     "metadata": {
      "needs_background": "light"
     },
     "output_type": "display_data"
    },
    {
     "name": "stdout",
     "output_type": "stream",
     "text": [
      "0 ---> light text\n"
     ]
    },
    {
     "data": {
      "image/png": "[encoded data removed]",
      "text/plain": [
       "<Figure size 432x288 with 1 Axes>"
      ]
     },
     "metadata": {
      "needs_background": "light"
     },
     "output_type": "display_data"
    },
    {
     "name": "stdout",
     "output_type": "stream",
     "text": [
      "0 ---> light text\n"
     ]
    },
    {
     "data": {
      "image/png": "[encoded data removed]",
      "text/plain": [
       "<Figure size 432x288 with 1 Axes>"
      ]
     },
     "metadata": {
      "needs_background": "light"
     },
     "output_type": "display_data"
    },
    {
     "name": "stdout",
     "output_type": "stream",
     "text": [
      "0 ---> light text\n"
     ]
    },
    {
     "data": {
      "image/png": "[encoded data removed]",
      "text/plain": [
       "<Figure size 432x288 with 1 Axes>"
      ]
     },
     "metadata": {
      "needs_background": "light"
     },
     "output_type": "display_data"
    },
    {
     "name": "stdout",
     "output_type": "stream",
     "text": [
      "0 ---> light text\n"
     ]
    },
    {
     "data": {
      "image/png": "[encoded data removed]",
      "text/plain": [
       "<Figure size 432x288 with 1 Axes>"
      ]
     },
     "metadata": {
      "needs_background": "light"
     },
     "output_type": "display_data"
    }
   ],
   "source": [
    "# Display results:\n",
    "NN.display_test_results(Xs=test.values[:, :3],\n",
    "                        y_preds=test_results.y_pred.values)"
   ]
  },
  {
   "cell_type": "markdown",
   "metadata": {},
   "source": [
    "# NN via scikit-learn"
   ]
  },
  {
   "cell_type": "code",
   "execution_count": 19,
   "metadata": {},
   "outputs": [],
   "source": [
    "from sklearn.neural_network import MLPClassifier"
   ]
  },
  {
   "cell_type": "code",
   "execution_count": 20,
   "metadata": {},
   "outputs": [
    {
     "data": {
      "text/plain": [
       "MLPClassifier(activation='logistic', alpha=0.0001, batch_size='auto',\n",
       "              beta_1=0.9, beta_2=0.999, early_stopping=False, epsilon=1e-08,\n",
       "              hidden_layer_sizes=(100,), learning_rate='constant',\n",
       "              learning_rate_init=0.001, max_iter=200, momentum=0.9,\n",
       "              n_iter_no_change=10, nesterovs_momentum=True, power_t=0.5,\n",
       "              random_state=None, shuffle=True, solver='adam', tol=0.0001,\n",
       "              validation_fraction=0.1, verbose=False, warm_start=False)"
      ]
     },
     "execution_count": 20,
     "metadata": {},
     "output_type": "execute_result"
    }
   ],
   "source": [
    "sklearn_NN = MLPClassifier(activation='logistic')\n",
    "\n",
    "sklearn_NN"
   ]
  },
  {
   "cell_type": "code",
   "execution_count": 21,
   "metadata": {},
   "outputs": [
    {
     "name": "stderr",
     "output_type": "stream",
     "text": [
      "/opt/anaconda3/envs/myenv/lib/python3.7/site-packages/sklearn/neural_network/multilayer_perceptron.py:566: ConvergenceWarning: Stochastic Optimizer: Maximum iterations (200) reached and the optimization hasn't converged yet.\n",
      "  % self.max_iter, ConvergenceWarning)\n"
     ]
    },
    {
     "data": {
      "text/plain": [
       "MLPClassifier(activation='logistic', alpha=0.0001, batch_size='auto',\n",
       "              beta_1=0.9, beta_2=0.999, early_stopping=False, epsilon=1e-08,\n",
       "              hidden_layer_sizes=(100,), learning_rate='constant',\n",
       "              learning_rate_init=0.001, max_iter=200, momentum=0.9,\n",
       "              n_iter_no_change=10, nesterovs_momentum=True, power_t=0.5,\n",
       "              random_state=None, shuffle=True, solver='adam', tol=0.0001,\n",
       "              validation_fraction=0.1, verbose=False, warm_start=False)"
      ]
     },
     "execution_count": 21,
     "metadata": {},
     "output_type": "execute_result"
    }
   ],
   "source": [
    "sklearn_NN.fit(X=train.iloc[:, :3].values,\n",
    "               y=train.y.values)"
   ]
  },
  {
   "cell_type": "code",
   "execution_count": 22,
   "metadata": {},
   "outputs": [],
   "source": [
    "sklearn_y_preds = sklearn_NN.predict(X=test.iloc[:, :3].values)"
   ]
  },
  {
   "cell_type": "code",
   "execution_count": 23,
   "metadata": {},
   "outputs": [
    {
     "data": {
      "text/html": [
       "<div>\n",
       "<style scoped>\n",
       "    .dataframe tbody tr th:only-of-type {\n",
       "        vertical-align: middle;\n",
       "    }\n",
       "\n",
       "    .dataframe tbody tr th {\n",
       "        vertical-align: top;\n",
       "    }\n",
       "\n",
       "    .dataframe thead th {\n",
       "        text-align: right;\n",
       "    }\n",
       "</style>\n",
       "<table border=\"1\" class=\"dataframe\">\n",
       "  <thead>\n",
       "    <tr style=\"text-align: right;\">\n",
       "      <th></th>\n",
       "      <th>y_true</th>\n",
       "      <th>y_pred</th>\n",
       "      <th>same</th>\n",
       "    </tr>\n",
       "  </thead>\n",
       "  <tbody>\n",
       "    <tr>\n",
       "      <td>0</td>\n",
       "      <td>1</td>\n",
       "      <td>1</td>\n",
       "      <td>True</td>\n",
       "    </tr>\n",
       "    <tr>\n",
       "      <td>1</td>\n",
       "      <td>1</td>\n",
       "      <td>1</td>\n",
       "      <td>True</td>\n",
       "    </tr>\n",
       "    <tr>\n",
       "      <td>2</td>\n",
       "      <td>1</td>\n",
       "      <td>1</td>\n",
       "      <td>True</td>\n",
       "    </tr>\n",
       "    <tr>\n",
       "      <td>3</td>\n",
       "      <td>0</td>\n",
       "      <td>0</td>\n",
       "      <td>True</td>\n",
       "    </tr>\n",
       "    <tr>\n",
       "      <td>4</td>\n",
       "      <td>1</td>\n",
       "      <td>1</td>\n",
       "      <td>True</td>\n",
       "    </tr>\n",
       "  </tbody>\n",
       "</table>\n",
       "</div>"
      ],
      "text/plain": [
       "   y_true  y_pred  same\n",
       "0       1       1  True\n",
       "1       1       1  True\n",
       "2       1       1  True\n",
       "3       0       0  True\n",
       "4       1       1  True"
      ]
     },
     "metadata": {},
     "output_type": "display_data"
    },
    {
     "name": "stdout",
     "output_type": "stream",
     "text": [
      "14% error\n"
     ]
    }
   ],
   "source": [
    "sklearn_results = pd.DataFrame({'y_true': test.y.values,\n",
    "                                'y_pred': sklearn_y_preds,\n",
    "                                'same': test.y.values == sklearn_y_preds})\n",
    "\n",
    "display(sklearn_results.head())\n",
    "\n",
    "print('{}% error'.format(round(len(sklearn_results[sklearn_results.same==False]) / len(sklearn_results) * 100)))"
   ]
  },
  {
   "cell_type": "code",
   "execution_count": 24,
   "metadata": {},
   "outputs": [],
   "source": [
    "# The end."
   ]
  },
  {
   "cell_type": "code",
   "execution_count": null,
   "metadata": {},
   "outputs": [],
   "source": []
  }
 ],
 "metadata": {
  "kernelspec": {
   "display_name": "Python 3",
   "language": "python",
   "name": "python3"
  },
  "language_info": {
   "codemirror_mode": {
    "name": "ipython",
    "version": 3
   },
   "file_extension": ".py",
   "mimetype": "text/x-python",
   "name": "python",
   "nbconvert_exporter": "python",
   "pygments_lexer": "ipython3",
   "version": "3.7.4"
  }
 },
 "nbformat": 4,
 "nbformat_minor": 2
}

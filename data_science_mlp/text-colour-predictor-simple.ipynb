{
 "cells": [
  {
   "cell_type": "markdown",
   "metadata": {},
   "source": [
    "# 2-Layer Neural Network | Text Colour Predictor\n",
    "\n",
    "Task:\n",
    "- Feed-forward neural network.\n",
    "- Feed RGB values of 'background colour'.\n",
    "- Predict if dark or light coloured text should be used over the RGB colour to make the text readable."
   ]
  },
  {
   "cell_type": "markdown",
   "metadata": {},
   "source": [
    "## Imports"
   ]
  },
  {
   "cell_type": "code",
   "execution_count": null,
   "metadata": {},
   "outputs": [],
   "source": [
    "# Libraries\n",
    "import pandas as pd\n",
    "from sklearn.cluster import AgglomerativeClustering\n",
    "from sklearn.model_selection import train_test_split\n",
    "from sklearn.neural_network import MLPClassifier\n",
    "\n",
    "# Scripts\n",
    "from rgb import *\n",
    "from two_layer import *"
   ]
  },
  {
   "cell_type": "markdown",
   "metadata": {},
   "source": [
    "## Data visualisation"
   ]
  },
  {
   "cell_type": "code",
   "execution_count": null,
   "metadata": {
    "scrolled": true
   },
   "outputs": [],
   "source": [
    "# Test the RGB class and data visualisation tool functions:\n",
    "colours = generate_RGB_data(X=1, extreme=True)\n",
    "\n",
    "for colour in colours:\n",
    "    colour.generate_img(font_col='#fff')\n",
    "    plt.imshow(colour.img)\n",
    "    print('RGB:', colour.RGB, 'Hex:', colour.hex)"
   ]
  },
  {
   "cell_type": "markdown",
   "metadata": {},
   "source": [
    "## Generate data"
   ]
  },
  {
   "cell_type": "code",
   "execution_count": null,
   "metadata": {
    "scrolled": true
   },
   "outputs": [],
   "source": [
    "np.random.seed(2) # Optional: set seed for data generation.\n",
    "\n",
    "colours = generate_RGB_data(X=200, extreme=1)\n",
    "data = pd.DataFrame([x.RGB for x in colours], columns=['R', 'G', 'B'])\n",
    "\n",
    "display('Training set:', data)"
   ]
  },
  {
   "cell_type": "markdown",
   "metadata": {},
   "source": [
    "## Assign Labels with 'lazy' method"
   ]
  },
  {
   "cell_type": "code",
   "execution_count": null,
   "metadata": {},
   "outputs": [],
   "source": [
    "clusterer = AgglomerativeClustering(n_clusters=2, linkage='ward').fit(data.values)\n",
    "y = clusterer.labels_"
   ]
  },
  {
   "cell_type": "code",
   "execution_count": null,
   "metadata": {
    "scrolled": true
   },
   "outputs": [],
   "source": [
    "for i, label in enumerate(y[199:]):\n",
    "    if label == 1:  # NB: must check for most appriate label-to-class assignment.\n",
    "        print('---> light text')\n",
    "        colours[i].generate_img(font_col='#fff')\n",
    "    else:\n",
    "        print('---> dark text')\n",
    "        colours[i].generate_img(font_col='#000')\n",
    "    plt.imshow(colours[i].img)\n",
    "    plt.show()"
   ]
  },
  {
   "cell_type": "markdown",
   "metadata": {},
   "source": [
    "## Train/test split"
   ]
  },
  {
   "cell_type": "code",
   "execution_count": null,
   "metadata": {
    "scrolled": true
   },
   "outputs": [],
   "source": [
    "# Split data into training & testing sets:\n",
    "train, test = train_test_split(data.join(pd.Series(y, name='y')))\n",
    "\n",
    "display(train.head(5))\n",
    "display(test.head(5))"
   ]
  },
  {
   "cell_type": "markdown",
   "metadata": {},
   "source": [
    "## Use the NN on dummy example"
   ]
  },
  {
   "cell_type": "code",
   "execution_count": null,
   "metadata": {},
   "outputs": [],
   "source": [
    "# Setup inputs:\n",
    "X = np.array([0, 1]).reshape((2,1))\n",
    "y = np.array([1, 0]).reshape((2,1))\n",
    "w1 = np.array([[-1, 0],\n",
    "               [0, 1]], dtype=float)\n",
    "w2 = np.array([[1, 0],\n",
    "               [-1, 1]], dtype=float)\n",
    "\n",
    "# Initialise NN:\n",
    "NN = NeuralNetwork(X=X,\n",
    "                   y=y,\n",
    "                   bias=1,\n",
    "                   eta=0.1,\n",
    "                   w1=w1,\n",
    "                   w2=w2,\n",
    "                   num_nodes=2,\n",
    "                   linear=True)\n",
    "\n",
    "# Use NN:\n",
    "NN.forwardpass()\n",
    "print('\\nForward Pass:\\noutput:\\n{}'.format(NN.output))\n",
    "\n",
    "NN.backprop()\n",
    "print('\\nBackpropagation:\\nhidden:\\n{}\\noutput:\\n{}'.format(NN.w1, NN.w2))\n",
    "\n",
    "NN.forwardpass()\n",
    "print('\\nForward Pass:\\noutput:\\n{}'.format(NN.output))"
   ]
  },
  {
   "cell_type": "markdown",
   "metadata": {},
   "source": [
    "## Train the NN on training set"
   ]
  },
  {
   "cell_type": "code",
   "execution_count": null,
   "metadata": {},
   "outputs": [],
   "source": [
    "# Setup inputs:\n",
    "input_X = train.values[0, :3].reshape((3,1))\n",
    "input_y = train.values[0, 3].reshape((1,1))\n",
    "print('X:\\n{}\\ny:\\n{}'.format(input_X, input_y))\n",
    "\n",
    "# Initialise NN:\n",
    "NN = NeuralNetwork(X=input_X,\n",
    "                   y=input_y,\n",
    "                   bias=1,\n",
    "                   eta=0.75,\n",
    "                   w1=None,\n",
    "                   w2=None,\n",
    "                   num_nodes=10,\n",
    "                   linear=False)\n",
    "\n",
    "# Use NN:\n",
    "NN.forwardpass()\n",
    "print('\\nForward Pass:\\noutput:\\n{}'.format(NN.output))\n",
    "\n",
    "NN.backprop()\n",
    "print('\\nBackpropagation:\\nhidden:\\n{}\\noutput:\\n{}'.format(NN.w1, NN.w2))\n",
    "\n",
    "NN.forwardpass()\n",
    "print('\\nForward Pass:\\noutput:\\n{}'.format(NN.output))"
   ]
  },
  {
   "cell_type": "code",
   "execution_count": null,
   "metadata": {},
   "outputs": [],
   "source": [
    "# Setup inputs:\n",
    "tr_i = train.shape[0]\n",
    "train_Xs = train.values[:, :3].reshape((tr_i, 3, 1))\n",
    "train_ys = train.values[:, 3].reshape((tr_i, 1))\n",
    "print('Shapes of inputs:', train_Xs.shape, train_ys.shape)\n",
    "\n",
    "# Train NN:\n",
    "train_y_preds = NN.fit(Xs=train_Xs, ys=train_ys, iterations=20)\n",
    "print('Shape of y_preds:', train_y_preds.shape)"
   ]
  },
  {
   "cell_type": "code",
   "execution_count": null,
   "metadata": {},
   "outputs": [],
   "source": [
    "display(train_y_preds[:5])"
   ]
  },
  {
   "cell_type": "code",
   "execution_count": null,
   "metadata": {},
   "outputs": [],
   "source": [
    "# Training results:\n",
    "train_results = pd.DataFrame({'y_true': train.y.values,\n",
    "                              'y_pred': np.round(train_y_preds).reshape((tr_i,)).astype(int),\n",
    "                              'same': train.y.values == np.round(train_y_preds).reshape((tr_i,)).astype(int)})\n",
    "\n",
    "display(train_results.head(5))\n",
    "\n",
    "print('{}% error'.format(round(len(train_results[train_results.same==False]) / len(train_results) * 100)))\n"
   ]
  },
  {
   "cell_type": "code",
   "execution_count": null,
   "metadata": {
    "scrolled": true
   },
   "outputs": [],
   "source": [
    "# Setup inputs:\n",
    "te_i = test.shape[0]\n",
    "test_Xs = test.values[:, :3].reshape((te_i, 3, 1))\n",
    "test_ys = test.values[:, 3].reshape((te_i, 1))\n",
    "print('Shapes of inputs:', test_Xs.shape, test_ys.shape)\n",
    "\n",
    "# Test NN:\n",
    "test_y_preds = NN.predict(Xs=test_Xs)\n",
    "print('Shape of y_preds:', test_y_preds.shape)"
   ]
  },
  {
   "cell_type": "code",
   "execution_count": null,
   "metadata": {},
   "outputs": [],
   "source": [
    "# Testing results:\n",
    "test_results = pd.DataFrame({'y_true': test.y.values,\n",
    "                             'y_pred': np.round(test_y_preds).reshape((te_i,)).astype(int),\n",
    "                             'same': test.y.values == np.round(test_y_preds).reshape((te_i,)).astype(int)})\n",
    "\n",
    "display(test_results.head(5))\n",
    "\n",
    "print('{}% error'.format(round(len(test_results[test_results.same==False]) / len(test_results) * 100)))"
   ]
  },
  {
   "cell_type": "markdown",
   "metadata": {},
   "source": [
    "# NN via scikit-learn"
   ]
  },
  {
   "cell_type": "code",
   "execution_count": null,
   "metadata": {},
   "outputs": [],
   "source": [
    "sklearn_NN = MLPClassifier(activation='logistic')\n",
    "\n",
    "sklearn_NN.fit(X=train.iloc[:, :3].values, y=train.y.values)\n",
    "\n",
    "sklearn_y_preds = sklearn_NN.predict(X=test.iloc[:, :3].values)\n",
    "\n",
    "sklearn_results = pd.DataFrame({'y_true': test.y.values,\n",
    "                                'y_pred': sklearn_y_preds,\n",
    "                                'same': test.y.values == sklearn_y_preds})\n",
    "\n",
    "display(sklearn_results.head(5))\n",
    "\n",
    "print('{}% error'.format(round(len(sklearn_results[sklearn_results.same==False]) / len(sklearn_results) * 100)))"
   ]
  },
  {
   "cell_type": "code",
   "execution_count": null,
   "metadata": {},
   "outputs": [],
   "source": []
  }
 ],
 "metadata": {
  "kernelspec": {
   "display_name": "Python 3.10.6 ('data-science-mlp-D2Uk10-b-py3.10')",
   "language": "python",
   "name": "python3"
  },
  "language_info": {
   "codemirror_mode": {
    "name": "ipython",
    "version": 3
   },
   "file_extension": ".py",
   "mimetype": "text/x-python",
   "name": "python",
   "nbconvert_exporter": "python",
   "pygments_lexer": "ipython3",
   "version": "3.10.6"
  },
  "vscode": {
   "interpreter": {
    "hash": "9d1c2cbbf11475466136c51493600a516540fe4ec922184bbee37bb507aec1d2"
   }
  }
 },
 "nbformat": 4,
 "nbformat_minor": 2
}
